{
 "cells": [
  {
   "cell_type": "markdown",
   "id": "1a7b51eb",
   "metadata": {},
   "source": [
    "## BCI Competition IV 2a data shape format:"
   ]
  },
  {
   "cell_type": "markdown",
   "id": "c9b481db",
   "metadata": {},
   "source": [
    "### EEG data is 3D numpy array (trials x channels x time samples) ---->\n",
    "Number of subjects in BNCI2014001: 9\n",
    "* Subject 0 : (288, 22, 321)\n",
    "* Subject 1 : (288, 22, 321)\n",
    "* Subject 2 : (288, 22, 321)\n",
    "* Subject 3 : (288, 22, 321)\n",
    "* Subject 4 : (288, 22, 321)\n",
    "* Subject 5 : (288, 22, 321)\n",
    "* Subject 6 : (288, 22, 321)\n",
    "* Subject 7 : (288, 22, 321)\n",
    "* Subject 8 : (288, 22, 321)\n",
    "* Total : ( 2592 , 22 , 321 )\n",
    "\n",
    "### BCI Competition IV 2b data shape format:\n",
    "EEG data is 3D numpy array (trials x channels x time samples) ---->\n",
    "Number of subjects in BNCI2014004: 9\n",
    "* Subject 0 : (720, 3, 321)\n",
    "* Subject 1 : (680, 3, 321)\n",
    "* Subject 2 : (720, 3, 321)\n",
    "* Subject 3 : (740, 3, 321)\n",
    "* Subject 4 : (740, 3, 321)\n",
    "* Subject 5 : (720, 3, 321)\n",
    "* Subject 6 : (720, 3, 321)\n",
    "* Subject 7 : (760, 3, 321)\n",
    "* Subject 8 : (720, 3, 321)\n",
    "* Total : ( 6520 , 3 , 321 )"
   ]
  },
  {
   "cell_type": "markdown",
   "id": "c884b14f",
   "metadata": {},
   "source": [
    "### How to load the data:"
   ]
  },
  {
   "cell_type": "code",
   "execution_count": null,
   "id": "1bcb9170",
   "metadata": {},
   "outputs": [],
   "source": [
    "# Define the data list\n",
    "datasets = ['aBNCI2014001R.pickle', 'aBNCI2014004R.pickle']\n",
    "\n",
    "# Define the data loading function\n",
    "import pickle\n",
    "\n",
    "def load_data(filename):\n",
    "    with open(filename, 'rb') as handle:\n",
    "        data = pickle.load(handle)\n",
    "    return data\n",
    "\n",
    "data = load_data(datasets[1])    # datasets[1] = 'aBNCI2014004R.pickle'"
   ]
  },
  {
   "cell_type": "code",
   "execution_count": null,
   "id": "b9cc8ca8",
   "metadata": {},
   "outputs": [],
   "source": [
    "# Learn about the data\n",
    "subject = 0\n",
    "s1 = data[subject]\n",
    "s1.get_data().shape       # for bci IV 2b data subject 0 --> (720, 3, 321)\n",
    "len(data)     # gives the number of subjects\n",
    "print(s1)     # will show data about number of events, targets, time range, and baseline for a subject 0 as below:\n",
    "\n",
    "'''\n",
    "<Epochs |  45 events (all good), 1 - 3.5 sec, baseline off, ~4.5 MB, data loaded,\n",
    " 'left_hand': 23\n",
    " 'right_hand': 22>\n",
    "'''"
   ]
  },
  {
   "cell_type": "code",
   "execution_count": null,
   "id": "ebb8d68d",
   "metadata": {},
   "outputs": [],
   "source": [
    "# Plot the event for a certain subject with the following command:\n",
    "s1['right_hand'].plot()\n",
    "\n",
    "# Plot the psd too, if needed:\n",
    "s1['right_hand'].plot_psd(fmin=0, fmax=40)  # the freq values can be changed\n",
    "\n",
    "# Plot the sensors location by:\n",
    "s1.plot_sensors(title = 'EEG sensor locations and labels', show_names = True)"
   ]
  },
  {
   "cell_type": "markdown",
   "id": "470c4ef5",
   "metadata": {},
   "source": [
    "### To analyze further you can take a look at MNE library, they have a lot of useful info."
   ]
  },
  {
   "cell_type": "code",
   "execution_count": null,
   "id": "9bf78985",
   "metadata": {},
   "outputs": [],
   "source": []
  }
 ],
 "metadata": {
  "kernelspec": {
   "display_name": "ms_thesis",
   "language": "python",
   "name": "ms_thesis"
  },
  "language_info": {
   "codemirror_mode": {
    "name": "ipython",
    "version": 3
   },
   "file_extension": ".py",
   "mimetype": "text/x-python",
   "name": "python",
   "nbconvert_exporter": "python",
   "pygments_lexer": "ipython3",
   "version": "3.8.0"
  }
 },
 "nbformat": 4,
 "nbformat_minor": 5
}
